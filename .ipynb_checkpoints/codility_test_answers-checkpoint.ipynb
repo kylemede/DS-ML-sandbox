{
 "cells": [
  {
   "cell_type": "markdown",
   "metadata": {},
   "source": [
    "Note: My solutions posted here are a bit verbose and can easily be trimmed.  I just like to be safe and simply comment out my debugging prints.\n",
    "\n",
    "# Codility Question 1:\n",
    "A rectangle is called 'rectilinear' if its edges are all parallel to the coordinate axes.  Such a rectangle can be described by specifying the coordinates of its lower-left and upper-right corners.\n",
    "\n",
    "Write a function:"
   ]
  },
  {
   "cell_type": "code",
   "execution_count": 4,
   "metadata": {
    "collapsed": false
   },
   "outputs": [],
   "source": [
    "def solution(K,L,M,N,P,Q,R,S):\n",
    "    #Code goes here\n",
    "    pass"
   ]
  },
  {
   "cell_type": "markdown",
   "metadata": {},
   "source": [
    "that, given eight integers representing two rectilinear rectangles (one with lower-left corner (K,L) and upper-right corner (M,N), and another with lower-left corner (P,Q) and upper-right corner (R,S)), returns the area of the sum of the rectangles.  If the rectangles intersect, the area of their intersection should be counted only once.  The function should return -1 if the area of the sum exceeds 2,147,483,647.\n",
    "\n",
    "For the input test case of (-4,1,2,6,0,-1,4,3), the area of the first box is 30, the area of the second is 16, and the area of the intersection is 4.  Thus, the function should return 42.\n",
    "\n",
    "Assume that: \n",
    "- K,L,M,N,P,Q,R, and S are integers with the range [-2,147,483,647...2,147,483,647]\n",
    "- K < M\n",
    "- L < N\n",
    "- P < R\n",
    "- Q < S\n",
    "\n",
    "Complexity:\n",
    "- expected worst-case time complexity is O(1)\n",
    "- expected worst-case space complexity is O(1)"
   ]
  },
  {
   "cell_type": "markdown",
   "metadata": {},
   "source": [
    "## My corrected answer after submission:"
   ]
  },
  {
   "cell_type": "code",
   "execution_count": 7,
   "metadata": {
    "collapsed": true
   },
   "outputs": [],
   "source": [
    "def solution(K,L,M,N,P,Q,R,S):\n",
    "    \"\"\"    \n",
    "    Test question 1 on codility. \n",
    "    (K,L) box 1 bottom left corner, (M,N) box 1 top right corner.\n",
    "    (P,Q) box 2 bottom left corner, (R,S) box 2 top right corner.\n",
    "    \n",
    "    Original test values were:\n",
    "    (-4,1,2,6,0,-1,4,3) # box 2 overlapping bottom right corner of box 1\n",
    "    \n",
    "    Extra tests for corner cases:\n",
    "    (0,-1,4,3,-4,1,2,6) # box 2 overlapping top left corner of box 1\n",
    "    (0,0,10,10,2,2,4,4) # box 2 completely inside box 1\n",
    "    (0,0,10,10,5,-5,7,20) # box 1 and box 2 forming plus symbol\n",
    "    (0,0,10,10,-1,-1,-1,-1) #box 2 being just a point\n",
    "    \n",
    "    # both boxes being hug and not intersecting totest the \n",
    "    # 'return -1 if tot_area>2147483647\" rule.\n",
    "    (-1e6,-1e6,1e6,1e6,1e6,1e6,5e6,5e6) \n",
    "    \"\"\"\n",
    "    #print 50*\"*\"\n",
    "    # Find length and heights\n",
    "    box1_height = abs(N-L)\n",
    "    box1_length = abs(K-M)\n",
    "    box2_height = abs(S-Q)\n",
    "    box2_length = abs(R-P)\n",
    "    # Find areas\n",
    "    area1 = box1_height*box1_length\n",
    "    area2 = box2_height*box2_length\n",
    "    \n",
    "    # First check if one or both of boxes has zero area\n",
    "    tot_area = area1 + area2\n",
    "    if (area1*area2)>0:\n",
    "        # Calculate the overlap in x and y.  \n",
    "        # Will be negative if no overlap, so, set it to zero in those cases.\n",
    "        # This form checks for partial overlap, and the smaller box \n",
    "        # being completely inside the larger one.\n",
    "        x_overlap = min(R,M)-max(P,K)\n",
    "        if x_overlap<0:\n",
    "            x_overlap = 0\n",
    "        y_overlap = min(S,N)-max(Q,L)\n",
    "        if y_overlap<0:\n",
    "            y_overlap = 0\n",
    "        #print repr(area1)\n",
    "        #print repr(area2)\n",
    "        #print repr(y_overlap*x_overlap)\n",
    "        tot_area = area1 + area2 - (y_overlap*x_overlap)\n",
    "        \n",
    "        \n",
    "    if tot_area>2147483647:\n",
    "        tot_area = -1\n",
    "    print \"\\n\"+repr(tot_area)+\"\\n\"\n",
    "    return tot_area"
   ]
  },
  {
   "cell_type": "markdown",
   "metadata": {},
   "source": [
    "# Codility Question 2:"
   ]
  },
  {
   "cell_type": "markdown",
   "metadata": {},
   "source": [
    "A non-empty zero-indexed array A consisting of N integers is given.  A pair of integers (P,Q) is called 'K-compmlementary' in array A if 0 <= P,Q < N and A[P] + A[Q] = K.\n",
    "\n",
    "For the test case of A=[1,8,-3,0,1,3,-2,4,5] and K=6, the 6-complementary pairs are: (0,8),(1,6),(4,8),(5,5),(6,1),(8,0),(8,4).  FOr instance, (4,8) is 6-complementary because A[4] + A[8] = 1 + 5 = 6.\n",
    "\n",
    "Write a function:"
   ]
  },
  {
   "cell_type": "code",
   "execution_count": 8,
   "metadata": {
    "collapsed": true
   },
   "outputs": [],
   "source": [
    "def solution(K,A):\n",
    "    #Code goes here\n",
    "    pass"
   ]
  },
  {
   "cell_type": "markdown",
   "metadata": {},
   "source": [
    "that, given an integer K and a non-empty zero-indexed array A consisting of N integers, returns the number of K-complementary pairs in array A.\n",
    "\n",
    "The test case above for example, should return 7.\n",
    "\n",
    "Assume that:\n",
    "- N is an integer within the range [1..40,000]\n",
    "- K is an integer within the range [-2,147,483,647...2,147,483,647]\n",
    "- each element of array A is an integer within the range [-2,147,483,647...2,147,483,647]\n",
    "\n",
    "Complexity:\n",
    "- expected worst-case time complexity is O(N*log(N))\n",
    "- expected worst-case space complexity is O(N), beyond the input storage (not counting storage required for the input arguments)\n",
    "\n",
    "Elements of input arrays can be modified."
   ]
  },
  {
   "cell_type": "markdown",
   "metadata": {},
   "source": [
    "## My corrected answer after submission:"
   ]
  },
  {
   "cell_type": "code",
   "execution_count": 9,
   "metadata": {
    "collapsed": true
   },
   "outputs": [],
   "source": [
    "def solution(K,A):\n",
    "    \"\"\"\n",
    "    THIS IS THE CORRECTED VERSION OF THE ONE I SUBMITTED.  THIS ONE IS CLOSER\n",
    "    TO O(NLogN), WHEREAS THE ONE I SUBMITTED WAS O(N**2).\n",
    "    \n",
    "    Test question 2 on codility.\n",
    "    A is an array of ints, K is the A[i]+A[j]=K value.\n",
    "    \n",
    "    Original test values were:\n",
    "    A=[1,8,-3,0,1,3,-2,4,5],K=6\n",
    "    \n",
    "    Extra test cases:\n",
    "    (K=6,A=[1,1,1,1,1,1,1,1,1,5,5,5,5,5,5,5,5,5,5,5,5])\n",
    "    (K=6,A=[3])\n",
    "    (K=-6,A=[-3])\n",
    "    (K=6,A=[1])\n",
    "    (K=0,A=[0])\n",
    "    (K=2147483646,A=[int(2147483646/2.0)])\n",
    "    (K=-2147483646,A=[int(-2147483646/2.0)])\n",
    "    (K=2147483647,A=[int(2147483647/2.0)])\n",
    "    (K=0,A=[])\n",
    "    \"\"\"\n",
    "    #print 50*\"*\"\n",
    "    count = 0\n",
    "    # Documentation says this won't happen, but better to be safe...\n",
    "    if (type(A)==list) or (type(K)==int):\n",
    "        #First sort the array to change from O(N**2) to O(N*logN)\n",
    "        A.sort()\n",
    "        \n",
    "        #Set up initial values of important counters and result lists.\n",
    "        i = 0\n",
    "        j = len(A)-1\n",
    "        sames = []\n",
    "        keep_going = True\n",
    "        pairs = []\n",
    "        #inds = []\n",
    "        \n",
    "        if len(A)>0:\n",
    "            # Move from out to middle, adding up number of complimentary pairs\n",
    "            while(keep_going):\n",
    "                #print repr((i,j))\n",
    "                if (A[i]+A[j]==K):\n",
    "                    if (i==j) and (i not in sames):\n",
    "                        count+=1\n",
    "                        sames.append(i)\n",
    "                        pairs.append((A[i],A[j]))\n",
    "                        #inds.append((i,j))\n",
    "                    else:\n",
    "                        count+=2\n",
    "                        pairs.append((A[i],A[j]))\n",
    "                        #inds.append((i,j))\n",
    "                if i<j:\n",
    "                    i+=1\n",
    "                elif i==j:\n",
    "                    if j==0:\n",
    "                        keep_going = False\n",
    "                    i = 0\n",
    "                    j-=1\n",
    "            \n",
    "        #print \"pairs = \"+repr(pairs)\n",
    "        #print \"inds = \"+repr(inds)\n",
    "    print \"\\n\"+repr(count)\n",
    "    return count"
   ]
  },
  {
   "cell_type": "code",
   "execution_count": null,
   "metadata": {
    "collapsed": true
   },
   "outputs": [],
   "source": []
  }
 ],
 "metadata": {
  "kernelspec": {
   "display_name": "Python 2",
   "language": "python",
   "name": "python2"
  },
  "language_info": {
   "codemirror_mode": {
    "name": "ipython",
    "version": 2
   },
   "file_extension": ".py",
   "mimetype": "text/x-python",
   "name": "python",
   "nbconvert_exporter": "python",
   "pygments_lexer": "ipython2",
   "version": "2.7.11"
  }
 },
 "nbformat": 4,
 "nbformat_minor": 1
}
