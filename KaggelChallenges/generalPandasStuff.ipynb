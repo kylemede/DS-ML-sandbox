{
 "cells": [
  {
   "cell_type": "markdown",
   "metadata": {},
   "source": [
    "# General notes about using Pandas.  \n",
    "___\n",
    "___\n",
    "\n",
    "## I will attempt to generalize them if I have the time, else they will just be lesson dumps to be cleaned up later."
   ]
  },
  {
   "cell_type": "markdown",
   "metadata": {},
   "source": [
    "___\n",
    "___\n",
    "# Replacing NaNs in a column with non-identical values \n",
    "\n",
    "Key point is that when taking a slice of a df, you are returned a **copy** of that slice, and the changes to the elements might not propogate back into the original df.\n",
    "\n",
    "### Steps:\n",
    "- first get the number of rows \n",
    "- make a vector/list of random values of equal in length to the number of rows\n",
    "- make a boolean index of all the NaNs in the original data slice\n",
    "- update the vector of random values to have all the elements that are useful data in the slice overwrite the random ones \n",
    "- **Now the random vector is the version of the column you want in the df**\n",
    "- simply push the vector in to the df\n",
    "\n",
    "**code below does not work, just an example for now**"
   ]
  },
  {
   "cell_type": "code",
   "execution_count": null,
   "metadata": {
    "collapsed": false
   },
   "outputs": [],
   "source": [
    "import pandas as pd \n",
    "from pandas import Series, DataFrame\n",
    "import numpy as np\n",
    "import matplotlib.pyplot as plt\n",
    "%matplotlib inline\n",
    "import seaborn as sns\n",
    "sns.set_style(\"whitegrid\")\n",
    "\n",
    "# original array\n",
    "orig_df\n",
    "\n",
    "# column 'Age' has some NaN values\n",
    "# A simple approximation of the distribution of ages is a gaussian, but this is not commonly accurate.\n",
    "# lets make a vector of random ages centered on the mean, with a width of the std\n",
    "mn = orig_df[\"Age\"].mean()\n",
    "st = orig_df[\"Age\"].std()\n",
    "\n",
    "# number of rows\n",
    "n = orig_df.shape[0]\n",
    "\n",
    "# vector of random values using the 'standard normal'.  ie. centered on 0, with variance = 1.0\n",
    "rands = np.random.randn(n)\n",
    "# change to centered on mean and with width equal to std\n",
    "rands = rands*st + mn #above two steps could be combined\n",
    "\n",
    "#--------------------------------\n",
    "### OR\n",
    "## use a truncated normal distribution to make sure none of the values are outside the input data's range\n",
    "import scipy.stats as stats\n",
    "\n",
    "lower, upper = orig_df['Age'].min(), orig_df['Age'].max()\n",
    "mu, sigma = orig_df[\"Age\"].mean(), orig_df[\"Age\"].std()\n",
    "\n",
    "# number of rows\n",
    "n = orig_df.shape[0]\n",
    "\n",
    "print 'max: ',traorig_dfin_df['Age'].max()\n",
    "print 'min: ',orig_df['Age'].min()\n",
    "\n",
    "# vector of random values using the truncated normal distribution.  \n",
    "X = stats.truncnorm((lower - mu) / sigma, (upper - mu) / sigma, loc=mu, scale=sigma)\n",
    "rands = X.rvs(n)\n",
    "\n",
    "#---------------------------------\n",
    "\n",
    "# get the indexes of the elements in the original array that are NaN\n",
    "idx = np.isfinite(orig_df['Age'])\n",
    "\n",
    "# use the indexes to replace the NON-NaNs in the random array with the good values from the original array\n",
    "rands[idx.values] = orig_df[idx]['Age'].values\n",
    "\n",
    "## At this point rands is now the cleaned column of data we wanted, so push it in to the original df\n",
    "orig_df['Age'] = rands\n",
    "\n",
    "print 'After this gaussian replacment, the number of NaNs are: ',orig_df['Age'].isnull().sum()"
   ]
  },
  {
   "cell_type": "code",
   "execution_count": 2,
   "metadata": {
    "collapsed": true
   },
   "outputs": [],
   "source": [
    "\n",
    "## john recommends trying to learn how to merge/join.  \n",
    "## But, make their indexs different, so it isn't just a simple thing."
   ]
  },
  {
   "cell_type": "code",
   "execution_count": 3,
   "metadata": {
    "collapsed": true
   },
   "outputs": [],
   "source": [
    "# NOTE:\n",
    "# how to delete column properly\n",
    "#item_purchase_log_df_clean = item_purchase_log_df_clean.drop(\"item_id_nm\",1)\n",
    "## where 1 is the axis number (0 for rows and 1 for columns.)"
   ]
  },
  {
   "cell_type": "code",
   "execution_count": null,
   "metadata": {
    "collapsed": true
   },
   "outputs": [],
   "source": [
    "# Convert categorical columns to ordinal\n",
    "from sklearn.preprocessing import LabelEncoder\n",
    "# Convert categorical column values to ordinal for model fitting\n",
    "le_title = LabelEncoder()\n",
    "# To convert to ordinal:\n",
    "orig_df.Title = le_title.fit_transform(orig_df.Title)\n",
    "# To convert back to categorical:\n",
    "#orig_df.Title = le_title.inverse_transform(orig_df.Title)"
   ]
  },
  {
   "cell_type": "code",
   "execution_count": null,
   "metadata": {
    "collapsed": true
   },
   "outputs": [],
   "source": [
    "### OR you could add new columns with ordinal true/false values\n",
    "titles_dummies = pd.get_dummies(orig_df['Title'],prefix='Title')\n",
    "orig_df = pd.concat([orig_df,titles_dummies],axis=1)"
   ]
  }
 ],
 "metadata": {
  "kernelspec": {
   "display_name": "Python 2",
   "language": "python",
   "name": "python2"
  },
  "language_info": {
   "codemirror_mode": {
    "name": "ipython",
    "version": 2
   },
   "file_extension": ".py",
   "mimetype": "text/x-python",
   "name": "python",
   "nbconvert_exporter": "python",
   "pygments_lexer": "ipython2",
   "version": "2.7.11"
  }
 },
 "nbformat": 4,
 "nbformat_minor": 1
}
