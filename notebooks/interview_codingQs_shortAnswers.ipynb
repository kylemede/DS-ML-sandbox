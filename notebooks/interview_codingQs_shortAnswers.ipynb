{
 "cells": [
  {
   "cell_type": "markdown",
   "metadata": {},
   "source": [
    "# Short form of answers/ideas for common CS coding interview questions\n",
    "___\n",
    "___"
   ]
  },
  {
   "cell_type": "markdown",
   "metadata": {},
   "source": [
    "# Riddles of sorts\n",
    "___\n",
    "___"
   ]
  },
  {
   "cell_type": "markdown",
   "metadata": {},
   "source": [
    "## Egg Drop\n",
    "\n",
    "### Problem Statement\n",
    "\n",
    "A tower has 100 floors. You've been given two eggs. The eggs are strong enough that they can be dropped from a particular floor in the tower without breaking. You've been tasked to find the highest floor an egg can be dropped without breaking, in as few drops as possible. If an egg is dropped from above its target floor it will break. If it is dropped from that floor or below, it will be intact and you can test drop the egg again on another floor.\n",
    "\n",
    "Show algorithmically how you would go about doing this in as few drops as possible. (Your answer should be a number of the fewest drops needed for testing 2 eggs on 100 floors)\n",
    "\n",
    "### Solution\n",
    "\n",
    "##### Linear Search (Simplest)\n",
    "\n",
    "- Drop #1 from every 10th floor.\n",
    "- When #1 breaks, drop #2 each of last 9 floors till #2 breaks.\n",
    "\n",
    "Best Case: 1st floor -> 1 + 1 = 2 drops total\n",
    "\n",
    "Worst Case: 99th floor -> 10 + 9 = 19 drops total\n",
    "\n",
    "##### Triangle series (Optimal)\n",
    "\n",
    "Generalize the problem to **n** floors.  If there are 1000 floors, then drops for #1 is the primary contributer.  So, need to find solution to where number of drops for #1 + #2 is constant for all cases of a given building.  \n",
    "\n",
    "Consider:\n",
    "- Drop #1 from **x**\n",
    "- If #1 breaks, worst case is #2 takes **x-1**.  **total = x+(x-1)**\n",
    "- Keep trying #1 from every x+(x-1).\n",
    "\n",
    "Triangle series:\n",
    "\n",
    "$$x + (x-1) + (x-2) + (x-3) + ... + 1$$\n",
    "\n",
    "which equals x(x+1)/2.  Solve for x knowing total number of floors.  So,\n",
    "\n",
    "$$x(x+1)/2 = n$$\n",
    "\n",
    "Solve with numpy:  convert to zero on one side, then:\n",
    "$$0 = 0.5x^2 +0.5x -n  $$  "
   ]
  },
  {
   "cell_type": "code",
   "execution_count": 3,
   "metadata": {
    "collapsed": false
   },
   "outputs": [
    {
     "data": {
      "text/plain": [
       "array([-14.6509717,  13.6509717])"
      ]
     },
     "execution_count": 3,
     "metadata": {},
     "output_type": "execute_result"
    }
   ],
   "source": [
    "import numpy as np\n",
    "n=100\n",
    "np.roots([0.5,0.5,-n])"
   ]
  },
  {
   "cell_type": "markdown",
   "metadata": {},
   "source": [
    "Positive root is 13.651.\n",
    "\n",
    "So, first floor to try is 14.\n",
    "\n",
    "Worst case is 14."
   ]
  },
  {
   "cell_type": "markdown",
   "metadata": {},
   "source": [
    "___\n",
    "___\n",
    "# Common coding Qs"
   ]
  },
  {
   "cell_type": "markdown",
   "metadata": {},
   "source": [
    "### Fibonacci series\n",
    "\n",
    "Each element of the Fibonacci series is the sum of the two proceeding elements. The simplest is the series 1, 1, 2, 3, 4, 5, etc.\n",
    "\n",
    "## Write a function that computes the Nth fibonacci number"
   ]
  },
  {
   "cell_type": "code",
   "execution_count": 11,
   "metadata": {
    "collapsed": false
   },
   "outputs": [
    {
     "name": "stdout",
     "output_type": "stream",
     "text": [
      "brute force:  13\n",
      "recursion:  13\n",
      "memoization:  13\n"
     ]
    }
   ],
   "source": [
    "#Brute force, looping. (Simplest)\n",
    "def fib(n):\n",
    "    \n",
    "    a,b = 1,1\n",
    "    for i in range(n-1):\n",
    "        a,b = b,a+b\n",
    "    return a\n",
    "\n",
    "print \"brute force: \",fib(7)\n",
    "\n",
    "# Using recursion (slowest)\n",
    "def fibR(n):\n",
    "    if n==1 or n==2:\n",
    "        return 1\n",
    "    return fib(n-1)+fib(n-2)\n",
    "\n",
    "print \"recursion: \",fibR(7)\n",
    "\n",
    "## Using memoization (Fastest).  Memoize the simple loop/brute force func.\n",
    "def memoize(fn, arg):\n",
    "    memo = {}\n",
    "    if arg not in memo:\n",
    "        memo[arg] = fn(arg)\n",
    "    return memo[arg]\n",
    "fibm = memoize(fib,7)\n",
    "print \"memoization: \",fibm"
   ]
  },
  {
   "cell_type": "markdown",
   "metadata": {},
   "source": [
    "## max profits\n",
    "\n",
    "### Problem\n",
    "\n",
    "Given a list of stock prices, where the index is the time stamp, find the greatest profit that can be made by a single purchase and sale.\n",
    "\n",
    "For example, if you were given the list of stock prices:\n",
    "\n",
    "prices = [12,11,15,3,10]\n",
    "\n",
    "Then your function would return the maximum possible profit, which would be 7 (buying at 3 and selling at 10).\n",
    "\n",
    "### Solution.  \n",
    "\n",
    "#### Brute Force.  O(N^2) time, O(1) space.\n",
    "\n",
    "Loop over every element and find max value after it, keeping track of max profit.\n",
    "\n",
    "#### Greedy Algorith.  O(N) time, O(1) space.\n",
    "\n",
    "Go through list, tracking:\n",
    "    - min price so far\n",
    "    - max profit so far (ie. max(current_price-min, max_profit) )\n",
    "    \n",
    "Corner cases:\n",
    "- less than 2 prices in list\n",
    "- prices keep going down.\n",
    "\n",
    "Fixes:\n",
    "- set initial min price to 0th\n",
    "- set initial max price to 1st - 0th"
   ]
  },
  {
   "cell_type": "code",
   "execution_count": null,
   "metadata": {
    "collapsed": true
   },
   "outputs": [],
   "source": []
  }
 ],
 "metadata": {
  "kernelspec": {
   "display_name": "Python 2",
   "language": "python",
   "name": "python2"
  },
  "language_info": {
   "codemirror_mode": {
    "name": "ipython",
    "version": 2
   },
   "file_extension": ".py",
   "mimetype": "text/x-python",
   "name": "python",
   "nbconvert_exporter": "python",
   "pygments_lexer": "ipython2",
   "version": "2.7.11"
  }
 },
 "nbformat": 4,
 "nbformat_minor": 1
}
