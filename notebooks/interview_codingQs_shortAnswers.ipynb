{
 "cells": [
  {
   "cell_type": "markdown",
   "metadata": {},
   "source": [
    "# Short form of answers/ideas for common CS coding interview questions\n",
    "___\n",
    "___"
   ]
  },
  {
   "cell_type": "markdown",
   "metadata": {},
   "source": [
    "# Riddles of sorts\n",
    "___\n",
    "___"
   ]
  },
  {
   "cell_type": "markdown",
   "metadata": {},
   "source": [
    "## Egg Drop\n",
    "\n",
    "### Problem Statement\n",
    "\n",
    "A tower has 100 floors. You've been given two eggs. The eggs are strong enough that they can be dropped from a particular floor in the tower without breaking. You've been tasked to find the highest floor an egg can be dropped without breaking, in as few drops as possible. If an egg is dropped from above its target floor it will break. If it is dropped from that floor or below, it will be intact and you can test drop the egg again on another floor.\n",
    "\n",
    "Show algorithmically how you would go about doing this in as few drops as possible. (Your answer should be a number of the fewest drops needed for testing 2 eggs on 100 floors)\n",
    "\n",
    "### Solution\n",
    "\n",
    "##### Linear Search (Simplest)\n",
    "\n",
    "- Drop #1 from every 10th floor.\n",
    "- When #1 breaks, drop #2 each of last 9 floors till #2 breaks.\n",
    "\n",
    "Best Case: 1st floor -> 1 + 1 = 2 drops total\n",
    "\n",
    "Worst Case: 99th floor -> 10 + 9 = 19 drops total\n",
    "\n",
    "##### Triangle series (Optimal)\n",
    "\n",
    "Generalize the problem to **n** floors.  If there are 1000 floors, then drops for #1 is the primary contributer.  So, need to find solution to where number of drops for #1 + #2 is constant for all cases of a given building.  \n",
    "\n",
    "Consider:\n",
    "- Drop #1 from **x**\n",
    "- If #1 breaks, worst case is #2 takes **x-1**.  **total = x+(x-1)**\n",
    "- Keep trying #1 from every x+(x-1).\n",
    "\n",
    "Triangle series:\n",
    "\n",
    "$$x + (x-1) + (x-2) + (x-3) + ... + 1$$\n",
    "\n",
    "which equals x(x+1)/2.  Solve for x knowing total number of floors.  So,\n",
    "\n",
    "$$x(x+1)/2 = n$$\n",
    "\n",
    "Solve with numpy:  convert to zero on one side, then:\n",
    "$$0 = 0.5x^2 +0.5x -n  $$  "
   ]
  },
  {
   "cell_type": "code",
   "execution_count": 3,
   "metadata": {
    "collapsed": false
   },
   "outputs": [
    {
     "data": {
      "text/plain": [
       "array([-14.6509717,  13.6509717])"
      ]
     },
     "execution_count": 3,
     "metadata": {},
     "output_type": "execute_result"
    }
   ],
   "source": [
    "import numpy as np\n",
    "n=100\n",
    "np.roots([0.5,0.5,-n])"
   ]
  },
  {
   "cell_type": "markdown",
   "metadata": {},
   "source": [
    "Positive root is 13.651.\n",
    "\n",
    "So, first floor to try is 14.\n",
    "\n",
    "Worst case is 14."
   ]
  },
  {
   "cell_type": "markdown",
   "metadata": {},
   "source": [
    "___\n",
    "___\n",
    "# Common coding Qs"
   ]
  },
  {
   "cell_type": "markdown",
   "metadata": {},
   "source": [
    "### Fibonacci series\n",
    "\n",
    "Each element of the Fibonacci series is the sum of the two proceeding elements. The simplest is the series 1, 1, 2, 3, 4, 5, etc.\n",
    "\n",
    "## Write a function that computes the Nth fibonacci number"
   ]
  },
  {
   "cell_type": "code",
   "execution_count": 11,
   "metadata": {
    "collapsed": false
   },
   "outputs": [
    {
     "name": "stdout",
     "output_type": "stream",
     "text": [
      "brute force:  13\n",
      "recursion:  13\n",
      "memoization:  13\n"
     ]
    }
   ],
   "source": [
    "#Brute force, looping. (Simplest)\n",
    "def fib(n):\n",
    "    \n",
    "    a,b = 1,1\n",
    "    for i in range(n-1):\n",
    "        a,b = b,a+b\n",
    "    return a\n",
    "\n",
    "print \"brute force: \",fib(7)\n",
    "\n",
    "# Using recursion (slowest)\n",
    "def fibR(n):\n",
    "    if n==1 or n==2:\n",
    "        return 1\n",
    "    return fib(n-1)+fib(n-2)\n",
    "\n",
    "print \"recursion: \",fibR(7)\n",
    "\n",
    "## Using memoization (Fastest).  Memoize the simple loop/brute force func.\n",
    "def memoize(fn, arg):\n",
    "    memo = {}\n",
    "    if arg not in memo:\n",
    "        memo[arg] = fn(arg)\n",
    "    return memo[arg]\n",
    "fibm = memoize(fib,7)\n",
    "print \"memoization: \",fibm"
   ]
  },
  {
   "cell_type": "markdown",
   "metadata": {},
   "source": [
    "___\n",
    "\n",
    "## Stock Prices\n",
    "\n",
    "### Problem\n",
    "\n",
    "Given a list of stock prices, where the index is the time stamp, find the greatest profit that can be made by a single purchase and sale.\n",
    "\n",
    "For example, if you were given the list of stock prices:\n",
    "\n",
    "prices = [12,11,15,3,10]\n",
    "\n",
    "Then your function would return the maximum possible profit, which would be 7 (buying at 3 and selling at 10).\n",
    "\n",
    "### Solution.  \n",
    "\n",
    "#### Brute Force.  O(N^2) time, O(1) space.\n",
    "\n",
    "Loop over every element and find max value after it, keeping track of max profit.\n",
    "\n",
    "#### Greedy Algorith.  O(N) time, O(1) space.\n",
    "\n",
    "Go through list, tracking:\n",
    "    - min price so far\n",
    "    - max profit so far (ie. max(current_price-min, max_profit) )\n",
    "    \n",
    "Corner cases:\n",
    "- less than 2 prices in list\n",
    "- prices keep going down.\n",
    "\n",
    "Fixes:\n",
    "- set initial min price to 0th\n",
    "- set initial max price to 1st - 0th"
   ]
  },
  {
   "cell_type": "markdown",
   "metadata": {},
   "source": [
    "___\n",
    "## Integer list to product list\n",
    "\n",
    "### Problem\n",
    "\n",
    "Given a list of integers, write a function that will return a list, in which for each index the element will be the product of all the integers except for the element at that index\n",
    "\n",
    "For example, an input of [1,2,3,4] would return [24,12,8,6] by performing [2×3×4,1×3×4,1×2×4,1×2×3] \n",
    "\n",
    "**Note: You can not use division in your answer! **\n",
    "\n",
    "### Solution\n",
    "#### Brute Force. O(N^2) time, O(N) space.\n",
    "\n",
    "- loop over elements.\n",
    "    - loop over all other elements to find their product and push into a master list\n",
    "    \n",
    "#### Two passes of Greedy Algorithm.  O(2N) time, O(N) space.\n",
    "\n",
    "* Pass through array once and load up another array with products before. \n",
    "    - track product of previous elements, don't re-calc each time\n",
    "* Pass through backwards and load up array with products before x products after\n",
    "    - track product of elements after (before, but backwards)"
   ]
  },
  {
   "cell_type": "markdown",
   "metadata": {},
   "source": [
    "___\n",
    "## Make a queue from two stacks\n",
    "\n",
    "#### Queue: FIFO\n",
    "\n",
    "#### Stack: LIFO\n",
    "\n",
    "### Solution.  Worst case O(N), but over many runs the amortised time is O(k).\n",
    "\n",
    "- Both stacks start empty\n",
    "- (enqueue) When new item comes in, push (Python list append) onto stack #1\n",
    "- (dequeue) When popping off an item:\n",
    "    - If stack #2 is empty, pop items from #1 onto #2 one-by-one\n",
    "        - pop top of #2 to get front most item\n",
    "    - Else, just pop #2 to get front most item"
   ]
  },
  {
   "cell_type": "code",
   "execution_count": 16,
   "metadata": {
    "collapsed": false
   },
   "outputs": [
    {
     "data": {
      "image/png": "[encoded data removed]",
      "text/plain": [
       "<IPython.core.display.Image object>"
      ]
     },
     "execution_count": 16,
     "metadata": {
      "image/png": {
       "width": 300
      }
     },
     "output_type": "execute_result"
    }
   ],
   "source": [
    "from IPython.display import Image\n",
    "Image(filename='twoStacks-oneQue.png', width=300)"
   ]
  },
  {
   "cell_type": "markdown",
   "metadata": {},
   "source": [
    "___\n",
    "___\n",
    "\n",
    "# Linked lists, Pros/Cons\n",
    "\n",
    "## Pros\n",
    "\n",
    "* Linked Lists have constant-time insertions and deletions in any position, in comparison, arrays require O(n) time to do the same thing.\n",
    "\n",
    "* Linked lists can continue to expand without having to specify their size ahead of time (remember our lectures on Array sizing form the Array Sequence section of the course!)\n",
    "\n",
    "## Cons\n",
    "\n",
    "* To access an element in a linked list, you need to take O(k) time to go from the head of the list to the kth element. In contrast, arrays have constant time operations to access elements in an array.\n",
    "___\n",
    "___"
   ]
  },
  {
   "cell_type": "markdown",
   "metadata": {},
   "source": [
    "## Signly linked list cycle check\n",
    "\n",
    "### Problem\n",
    "\n",
    "Given a singly linked list, write a function which takes in the first node in a singly linked list and returns a boolean indicating if the linked list contains a \"cycle\".\n",
    "\n",
    "### Solution\n",
    "#### Use sets.  Simple. O(N) space and time.\n",
    "\n",
    "- Run through each node.\n",
    "- Track each node 'next' pointer seen in a set\n",
    "- If current node's next has been seen, return True.\n",
    "\n",
    "#### Using two racing markers.  O(N) time, O(k) space.\n",
    "Two markers race, one twice as fast.  If they are ever equal, then there is a cycle.\n",
    "\n",
    "- marker 1 = next\n",
    "- marker 2 = next.next\n",
    "- if marker 2 == marker 1, return True\n",
    "\n",
    "___"
   ]
  },
  {
   "cell_type": "markdown",
   "metadata": {},
   "source": [
    "## Reverse a Doubly linked list\n",
    "\n",
    "Run through once and switch 'previous' and 'next' pointers.\n",
    "\n",
    "For each node:\n",
    "- next_temp = current\n",
    "- current  = previous_temp\n",
    "- previous_temp = current\n",
    "- current_temp = next_temp\n",
    "\n",
    "Now, end of list is front."
   ]
  },
  {
   "cell_type": "markdown",
   "metadata": {},
   "source": [
    "___\n",
    "\n",
    "## OO Q: design an elevator system\n",
    "\n",
    "First there is an elevator class. It has a direction (up, down, stand, maintenance), a current floor and a list of floor requests sorted in the direction. It receives request from this elevator.\n",
    "\n",
    "Then there is a bank. It contains the elevators and receives the requests from the floors. These are scheduled to all active elevators (not in maintenance).\n",
    "\n",
    "The scheduling will be like:\n",
    "- if available pick a standing elevator for this floor.\n",
    "- else pick an elevator moving to this floor.\n",
    "- else pick a standing elevator on an other floor.\n",
    "- else pick the elevator with the lowest load.\n",
    "\n",
    "Each elevator has a set of states.\n",
    "\n",
    "- Maintenance: the elevator does not react to external signals (only to its own signals).\n",
    "- Stand: the elevator is fixed on a floor. If it receives a call. And the elevator is on that floor, the doors open. If it is on another floor, it moves in that direction.\n",
    "- Up: the elevator moves up. Each time it reaches a floor, it checks if it needs to stop. If so it stops and opens the doors. It waits for a certain amount of time and closes the door (unless someting is moving through them. Then it removes the floor from the request list and checks if there is another request. If so the elevator starts moving again. If not it enters the state stand.\n",
    "- Down: like up but in reverse direction.\n",
    "\n",
    "There are additional signals:\n",
    "\n",
    "- alarm. The elevator stops. And if it is on a floor, the doors open, the request list is cleared, the requests moved back to the bank.\n",
    "- door open. Opens the doors if an elevator is on a floor and not moving.\n",
    "- door closes. Closed the door if they are open. \n",
    "\n",
    "EDIT: Some elevators don't start at bottom/first_floor esp. in case of skyscrapers.\n",
    "\n",
    "min_floor & max_floor are two additional attributes for Elevator."
   ]
  },
  {
   "cell_type": "markdown",
   "metadata": {},
   "source": [
    "___\n",
    "## Find a number which exists an odd number of times in a list\n",
    "\n",
    "### Using Hashing. O(N) time and space\n",
    "\n",
    "- make a dict\n",
    "- loop through list\n",
    "    - if value not a key in dict,add it as the key (and set value to 1)\n",
    "    - if value IS a key in dict, delete it from dict\n",
    "\n",
    "### Using XOR. O(N) time, O(k) space.\n",
    "\n",
    "bitwise XOR is ^ in Python and many other languages.\n",
    "It returns binary 0 if elements are same, and it returns element when element ^ 0.\n",
    "\n",
    "- initialize res = 0\n",
    "- loop through elements\n",
    "    - res = res ^ element\n",
    "- return res "
   ]
  },
  {
   "cell_type": "markdown",
   "metadata": {},
   "source": [
    "___\n",
    "## Sorted linked list -> BST\n",
    "[soln](http://www.geeksforgeeks.org/sorted-linked-list-to-balanced-bst/)\n",
    "### Simple. O(N log(N))\n",
    "\n",
    "- 1) Get the Middle of the linked list and make it root.\n",
    "- 2) Recursively do same for left half and right half.\n",
    "    - a) Get the middle of left half and make it left child of the root created in step 1.\n",
    "    - b) Get the middle of right half and make it right child of the root created in step 1."
   ]
  },
  {
   "cell_type": "markdown",
   "metadata": {},
   "source": [
    "___\n",
    "## Fastest sorting algorithms:\n",
    "\n",
    "- $O(n^2)$ sorting algorithms, such as insertion sort, bubble sort, and selection sort, which you should typically use only in special circumstances; \n",
    "- Quicksort, which is worst-case $O(n^2)$ but quite often $O(nlogn)$ with good constants and properties and which can be used as a general-purpose sorting procedure; \n",
    "- $O(nlogn)$ algorithms, like merge-sort and heap-sort, which are also good general-purpose sorting algorithms\n",
    "- $O(n)$, or linear, sorting algorithms for lists of integers, such as radix, bucket and counting sorts, which may be suitable depending on the nature of the integers in your lists.\n",
    "\n",
    "\n",
    "### Overall\n",
    "\n",
    "General-purpose, not integers: Merge sort, or heap sort.\n",
    "\n",
    "For a list of integers: Radix or bucket sort"
   ]
  },
  {
   "cell_type": "code",
   "execution_count": null,
   "metadata": {
    "collapsed": true
   },
   "outputs": [],
   "source": []
  }
 ],
 "metadata": {
  "kernelspec": {
   "display_name": "Python 2",
   "language": "python",
   "name": "python2"
  },
  "language_info": {
   "codemirror_mode": {
    "name": "ipython",
    "version": 2
   },
   "file_extension": ".py",
   "mimetype": "text/x-python",
   "name": "python",
   "nbconvert_exporter": "python",
   "pygments_lexer": "ipython2",
   "version": "2.7.11"
  }
 },
 "nbformat": 4,
 "nbformat_minor": 1
}
