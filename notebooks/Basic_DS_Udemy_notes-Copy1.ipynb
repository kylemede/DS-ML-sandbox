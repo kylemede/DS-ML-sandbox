{
 "cells": [
  {
   "cell_type": "markdown",
   "metadata": {},
   "source": [
    "# Statistics and Probability Refresher\n",
    "\n",
    "Skipping adding stuff here for this as fairly basic.\n",
    "\n",
    "### see my DistributionMetrics.ipynb for some basics, or lectures 7-18 of the course."
   ]
  },
  {
   "cell_type": "markdown",
   "metadata": {},
   "source": [
    "# Linear Regression\n",
    "\n",
    "* fit a line to observations\n",
    "* use line to predict values of other data\n",
    "\n",
    "## Methods\n",
    "\n",
    "* 'least squares': minimize squared-error\n",
    "* Gradien Descent: better for higher-D data, but prone to issues due to starting position\n",
    "\n",
    "r-squared: 0 = bad, 1 = perfect (all of variance is captured by model)\n",
    "\n",
    "#### below code is my modified version in regression.ipynb of that originally in LinearRegression.ipynb and PolynomialRegression.ipynb"
   ]
  },
  {
   "cell_type": "markdown",
   "metadata": {},
   "source": [
    "## Modify this to a multivariate/polynomial regression example"
   ]
  },
  {
   "cell_type": "markdown",
   "metadata": {},
   "source": [
    "Make distribution more complicated to see if scikit-learn can fit it"
   ]
  },
  {
   "cell_type": "markdown",
   "metadata": {},
   "source": [
    "With a high-N polynomial, it is unlikely to hold up to future testing and only fits the test data well."
   ]
  },
  {
   "cell_type": "markdown",
   "metadata": {},
   "source": [
    "# Multivariate Regression\n",
    "\n",
    "Just regression above with more than one variable being fit.\n",
    "\n",
    "### Key points\n",
    "\n",
    "* Avoid using features that don't provide additional information\n",
    "* combine features together when it makes sense to reduce dimensionality\n",
    "* Need to assume features are not dependent on each other, even though not always or even usually true\n",
    "\n",
    "### Example of using Multivariate Regression to estimate car prices based on their features is covered in MultivariateRegression.ipynb"
   ]
  },
  {
   "cell_type": "markdown",
   "metadata": {},
   "source": [
    "# Multi-Level Models\n",
    "\n",
    "* Effects happen at different levels\n",
    "    * a lower level feature depends on its environment, and the level above that...\n",
    "\n",
    "**Multi-Level Models attempt to model these interdepndencies**\n",
    "\n",
    "Commonly applied in healthcare.\n",
    "\n",
    "Not covered in more detailed beyond general discusion in lecture 22, and instead recommends a [book] for further reading. "
   ]
  },
  {
   "cell_type": "markdown",
   "metadata": {},
   "source": [
    "# Bayesian Methods: Concepts\n",
    "\n",
    "## Bayes' Theorem (not covering it here as it is in my PhD and MSc theses)\n",
    "One good real-world application is in a *spam filter*.  **Naive Bayes'** can be used to develop a model that can discriminate normal (Ham) emails from garbage (Spam).  Lots of ways to improve it, but works fairly well in a basic sense.\n",
    "\n",
    "#### For more, check lecture 25-26\n",
    "\n",
    "## Spam Classifier/Filter with Naive Bayes\n",
    "Supervised learning.\n",
    "\n",
    "### Steps\n",
    "\n",
    "* Read in emails and their classification of ham/spam **the bulk of the code**\n",
    "* Vectorize emails to numbers representing each word\n",
    "* Get a functional object that will perform *Multinomial Naive Bayes'* from *sklearn*\n",
    "* Fit vectorized emails\n",
    "* Check it worked with test cases\n",
    "\n",
    "### for more code and details, see NaiveBayes.ipynb"
   ]
  },
  {
   "cell_type": "markdown",
   "metadata": {},
   "source": [
    "# K-Means Clustering\n",
    "\n",
    "## Unsupervised learning\n",
    "\n",
    "* Attempts to split data into K groups that are closest to K centroids.\n",
    "\n",
    "    * (1)Centroids are adjusted to the center of the points that were closest to it.\n",
    "\n",
    "    * (2)Points are then used to find which centroids they are closest to again.\n",
    "\n",
    "* repeat 1 & 2 until error or distance centroids move converges.\n",
    "\n",
    "### Caveats\n",
    "\n",
    "* choosing K\n",
    "    * try increasing K until you stop getting large reductions in $\\chi^2$\n",
    "    \n",
    "* use different randomly chosen initial centroids to avoid local minima\n",
    "\n",
    "* Still need to determine labels for clusters found.\n",
    "\n",
    "#### Example of its use can be found in KMeans.ipynb\n"
   ]
  },
  {
   "cell_type": "markdown",
   "metadata": {},
   "source": [
    "# Entropy \n",
    "\n",
    "* A measure of a data set's disorder - how same or different it is.  \n",
    "* Classify data set into N classes.\n",
    "    * Entropy of 0, implies all data is the same class\n",
    "    * High entropy, implies there are many types of classes in the data\n",
    "\n",
    "### Computing Entropy\n",
    "\n",
    "* $H(s) = -p_1ln(p_1) -...-p_nln(p_n)$\n",
    "* $p_i$ represents portion of data with that class/label\n",
    "* casses where all data is or all data is not a particular class contribute zero to entropy.  So, non-zero only when portions of the data are in different classes."
   ]
  },
  {
   "cell_type": "markdown",
   "metadata": {},
   "source": [
    "# Decision Trees\n",
    "\n",
    "### Supervised learning\n",
    "\n",
    "* flowcharts to assist with classification choices\n",
    "* EX. A tree of resume contents organized by its relation to the chances of being hired.\n",
    "\n",
    "## Random Forests\n",
    "\n",
    "#### Can use 'from sklearn import tree',  AND pandas to organize data going into the trees.  Graphviz can be used to visualize resulting trees.\n",
    "\n",
    "* Decision trees are very susceptible to overfitting\n",
    "    * construct many trees in a 'forest' and have them all 'vote' towards the outcome classification\n",
    "         * MUST randomly sample data used to make each tree!\n",
    "         * Also, randomize the attributes each tree is fitting.\n",
    "         \n",
    "##### steps\n",
    "\n",
    "* read in data with pandas\n",
    "* convert columns used to make decisions into ordinal numbers with a map function"
   ]
  },
  {
   "cell_type": "markdown",
   "metadata": {},
   "source": [
    "* push these into a 'features' list\n",
    "* get array of matching decisions from supervised portion for training\n",
    "* make decision tree"
   ]
  },
  {
   "cell_type": "markdown",
   "metadata": {},
   "source": [
    "* use graphviz to display resulting tree\n",
    "\n",
    "##### upgrade to using a random forest "
   ]
  },
  {
   "cell_type": "markdown",
   "metadata": {},
   "source": [
    "# Ensemble Learning\n",
    "\n",
    "Multiple models work together to make a prediction\n",
    "* Ex. random forests.\n",
    "\n",
    "#### methods\n",
    "\n",
    "* Bagging (bootsrap aggregating): many models built by training on randomly-drawn subsets of data\n",
    "* Boosting: additional models added to help address data mis-classified by previous model\n",
    "    * Very good and powerful tool for local and cluster distributed solutions is [XGBoost](https://xgboost.readthedocs.io/en/latest/) available in C++, Python, R, Java, Scala, and Julia.\n",
    "* 'bucket of models': Train multiple models, then pick one that works best on test data\n",
    "* Stacking: run multiple models on same data, then combine output results\n",
    "\n",
    "## Advanced Ensemble Learning\n",
    "\n",
    "* Bayes Optimal Classifier (BOC)\n",
    "    * Theoretically the best - but almost always impractical\n",
    "* Bayesian Parameter Averaging\n",
    "    * Attempts ot make BOC practical.  Still susceptible to overfitting, often outperformed by simple bagging\n",
    "* Bayesian Model Combination\n",
    "    * Tries to fix all of these\n",
    "    * BUT, ends up about the same as finding best combination of models with cross-validation"
   ]
  },
  {
   "cell_type": "markdown",
   "metadata": {},
   "source": [
    "# Support Vector Machines (SVM)\n",
    "\n",
    "* Works well for high-dimensional data (lots of features)\n",
    "* Solves for high-dimensional support vectors to help divide up the data\n",
    "* Applies a 'kernal trick' to represent data in higher dimensions in order to find the hyperplanes not initially apparent in the lower diimensions.\n",
    "    * This is computationally expensive, and why it is not as useful for low-D data.\n",
    "\n",
    "Ex. Identify types of iris flower by length and width of sepal.\n",
    "\n",
    "###### General:\n",
    "With a simple linear kernal."
   ]
  },
  {
   "cell_type": "markdown",
   "metadata": {},
   "source": [
    "# Recommender Systems\n",
    "\n",
    "## User-Based Collaborative Filtering\n",
    "\n",
    "* Build matrix of things each user bought/viewed/rated\n",
    "* Compute similarity scores between users\n",
    "* Find similar users\n",
    "* Recommend stuff similar users boughts... that current user hasn't seen yet.\n",
    "\n",
    "#### Caveats\n",
    "\n",
    "* People's likes change\n",
    "* Number of people commonly >> number of items.  Thus, needs lots of filtering.\n",
    "* People intentially fabricate fake users to boost/trash to their advantage \n",
    "    * Shilling attack"
   ]
  },
  {
   "cell_type": "markdown",
   "metadata": {},
   "source": [
    "## Item-based Collaborative Filtering\n",
    "\n",
    "Resolves some of the problems that arise from using people's actions to make recommendations mentioned above.\n",
    "* less items than people, faster to compute.\n",
    "* harder for people/users to intervene \n",
    "\n",
    "#### Idea\n",
    "\n",
    "* Find all pairs of items bought/viewed/rated by same user\n",
    "* Measure similarity of the item's ratings/bought... for all users that bought/viewed both\n",
    "* sort by item\n",
    "* sort by similarity\n",
    "* Use a look-up table of results to make recommendtions to users\n",
    "\n",
    "#### Steps\n",
    "\n",
    "* import data with pandas\n",
    "* convert data to database with items, users and rating/frequency bought..."
   ]
  },
  {
   "cell_type": "markdown",
   "metadata": {},
   "source": [
    "* Calculate correlation between rating/frequency bought with pandas\n",
    "* Clean out spurrious results.  THIS IS TRICKY, BUT THE MOST IMPORTANT PART TO MAKE SURE RECOMMENDATIONS ARE SUCCESSFUL TO PRODUCING SALES.  Will probably go through many rounds of cleaning input data, tweaking correlation function, and cleaning resulting correlations."
   ]
  },
  {
   "cell_type": "markdown",
   "metadata": {},
   "source": [
    "* Use cleaned correlations array(s) to make recommendations\n",
    "* Try grouping results to help find top matches"
   ]
  },
  {
   "cell_type": "markdown",
   "metadata": {},
   "source": [
    "# K-Nearest Neighbours (KNN)\n",
    "\n",
    "Supervised learning\n",
    "\n",
    "* Similar to K Means Clustering\n",
    "* Classify new data points based on their distance from known data\n",
    "* Find the K nearest neighbord, based on this 'distance'\n",
    "* Allow all KNN to vote on classification\n",
    "\n",
    "#### example in KNN.ipynb\n",
    "\n",
    "### Steps\n",
    "\n",
    "* import data with pandas\n",
    "* Group data by features of interest\n",
    "* Convert those for making classifications from into a normalized form\n",
    "* Make a distance calculating function\n",
    "* Find KNN\n",
    "* Sort or something to give results back\n"
   ]
  },
  {
   "cell_type": "markdown",
   "metadata": {},
   "source": [
    "# Principle Component Analysis (PCA)\n",
    "\n",
    "When data has too many dimensions, extract sets of basis data that can be combined to re-produce the high-D data sufficiently.  In another way: find a way to represent the data with minimal dimensions that sufficiently preserves its variance.\n",
    "\n",
    "### very useful in image compression and face recognition\n",
    "\n",
    "* Commonly implementation is Single Value Decomposition (SVD)\n",
    "\n",
    "Ex. Identify types of iris flower by length and width of sepal.  Data comes with scikit-learn.\n",
    "* With PCA 4 length & width of petals & sepal (4D) -> 2D\n",
    "\n",
    "#### See PCA.ipynb for all code\n",
    "\n",
    "### steps\n",
    "\n",
    "* Import data\n",
    "* Apply PCA\n",
    "* Check how much variance was captured"
   ]
  },
  {
   "cell_type": "markdown",
   "metadata": {},
   "source": [
    "# Data Warehousing\n",
    "\n",
    "## ETL: Extract, Transform, Load\n",
    "\n",
    "The more 'traditional' approach.\n",
    "* raw data from operational systems periodically *extracted*\n",
    "* raw data is *transformed* into a required schema\n",
    "* transformed data is *loaded* into warehouse\n",
    "\n",
    "* BUT, step 2, *transform* can be a big problem with \"big data\"\n",
    "\n",
    "## ELT: Extract, Load, Transform\n",
    "\n",
    "Push intensive transformation step to the end where it can be better optimized.  This approach is now much more scalable than ETL.\n",
    "\n",
    "* Extract raw data as before\n",
    "* load it in to datawarehouse raw\n",
    "* let cluster (Hadoop) process and manage data in-place\n",
    "* Query reduced data with new methods such as NoSQL, Spark or MapReduce\n"
   ]
  },
  {
   "cell_type": "markdown",
   "metadata": {},
   "source": [
    "# Reinforcement Learning\n",
    "\n",
    "One example is Pac-Man.\n",
    "### Idea:\n",
    "* agent 'explores' space\n",
    "* allow agent to learn values of different state changes in different conditions\n",
    "* state & choice values then used to make informed future decisions\n",
    "\n",
    "## Q-Learning\n",
    "Implementation of reinforcement learning.\n",
    "* have:\n",
    "    * set of environmental states **s**\n",
    "    * set of possible actions **a** for each state\n",
    "    * value of state/action **Q**\n",
    "\n",
    "* Start all Q's at 0\n",
    "* explore\n",
    "* bad things -> reduce Q for that state/action\n",
    "* good things -> increase Q\n",
    "\n",
    "### The exploration problem\n",
    "Use Bayes theorem to include intelligent randomness into exploration to increase the learning efficiency.  Thus, a **Markov Decision Process (MDP)**\n",
    "\n",
    "Use This in tandem with Q-learning to build up a list of all possible states and the reward values (Q values) for every available action in that state.  Can be considered to implement *Dynamic Programming* or *Memoization* in some cases or terms.\n",
    "\n",
    "\n"
   ]
  },
  {
   "cell_type": "markdown",
   "metadata": {},
   "source": [
    "## Dealing with Real-World Data\n",
    "\n",
    "Lectures 48-53 based on issues of applying course fundamentals to real world data.\n",
    "\n",
    "## Apache Spark: Machine Learning on Big Data\n",
    "\n",
    "Using **MLLib** to esentially do things like K-Means Clustering, Decision Trees... reviewed in pure Python before, but in a way that could be ran locally OR on a **Hadoop** cluster with **Amazon Web Services (AWS)**."
   ]
  },
  {
   "cell_type": "markdown",
   "metadata": {
    "collapsed": true
   },
   "source": [
    "___\n",
    "___\n",
    "___\n",
    "# Common models and tools in ML/AI:\n",
    "___\n",
    "___\n",
    "\n",
    "## Neural Network Models:\n",
    "___\n",
    "### Types:\n",
    "\n",
    "#### Feedforward (acyclic graphs)\n",
    "* Autoencoders\n",
    "* Denoising autoencoders\n",
    "* Restricted Boltzmann machines (stacked, they form deep-belief networks)\n",
    "\n",
    "#### Convolutional\n",
    "Deep convolutional networks are SOTA for images. There are many well known architectures, including AlexNet and VGGNet.\n",
    "\n",
    "Convolutional networks usually involved a combination of convolutional layers as well as subsampling and fully connected feedforward layers. \n",
    "\n",
    "#### Recurrent\n",
    "These handle time series data especially well. They can be combined with convolutional networks to generate captions for images. \n",
    "\n",
    "#### Recursive\n",
    "These handle natural language especially well\n",
    "___\n",
    "\n",
    "- MLP Multi-layer perceptron\n",
    "- CNN Convolutional Neural Network\n",
    "- RNN Recurrent Neural Network\n",
    "- RNN Recursive Neural Network\n",
    "- LSTM Long Short Term Memory\n",
    "- FRN Fully recurrent network\n",
    "- HN Hopfield network\n",
    "- EN Elman network\n",
    "- JN Jordan network\n",
    "- ESN Echo state network\n",
    "- BRNN Bi-directional RNN\n",
    "___\n",
    "\n",
    "## Stochastic gradient descent\n",
    "\n",
    "Optimize the cost function while training the model to give the highest accuracy.\n",
    "\n",
    "- Momentum SGD\n",
    "- AdaGrad\n",
    "- RMSprop\n",
    "- AdaDelta\n",
    "- Adam\n",
    "- Nestrov’s Accelerated gradient descent\n",
    "- Grave’s RMS prop\n",
    "___\n",
    "\n",
    "## Activation function\n",
    "\n",
    "Outputs of perceptrons/neurons/nodes generated by passing weighted inputs through an 'activation function'.\n",
    "\n",
    "- Relu     (simple rectifier.  returns max(x,0))\n",
    "- Sigmoid\n",
    "- Soft Max\n",
    "- Max Out\n",
    "- Tanh\n",
    "- Identity\n",
    "- Leaky ReLU\n",
    "- Clipped_RelU\n",
    "- Exponential Linear Unit\n",
    "- Log Soft Max\n",
    "- Soft Plus\n",
    "- Parametric ReLU\n",
    "\n",
    "___\n",
    "\n",
    "## Pre-learning program\n",
    "\n",
    "Training to estimate best weights for inputs to nodes.\n",
    "\n",
    "- Denoising Auto-Encoder\n",
    "- Auto-encoder\n",
    "- Add the user code\n",
    "- Deep Boltzmann Machine\n",
    "- Restricted Boltzmann Machine Gibbs sampling\n",
    "- Restricted Boltzmann Machine Contrastive Divergence\n",
    "- Deep Belief Network\n",
    "- Gaussian unit\n",
    "- RELU unit\n",
    "\n",
    "___\n",
    "\n",
    "## Data Normalization\n",
    "- standardization\n",
    "- ZPC whitening\n",
    "- ZCA whitening\n",
    "___\n",
    "___\n",
    "___"
   ]
  },
  {
   "cell_type": "markdown",
   "metadata": {},
   "source": [
    "# Big Data Solutions/Distributed computing notes\n",
    "\n",
    "## Spark\n",
    "- Alternative to tools like MapReduce.\n",
    "- More flexible and can work with other file systems: Cassandra, AWS S3...\n",
    "- Keeps most data in memory to be faster, BUT can RAM can overflow\n",
    "- MapReduce writes back to disk after each step, so slower...\n",
    "- MLLib provides powerful, easy to use ML & data mining tools\n",
    "- RDD Resilient Distributed Datasets (OLD way, **latest version uses Dataframes like those in SQL and Pandas**)\n"
   ]
  },
  {
   "cell_type": "markdown",
   "metadata": {},
   "source": [
    "___\n",
    "___\n",
    "___\n",
    "# Misc Others:\n",
    "\n",
    "autoregressive integrated moving average (ARIMA) model is a generalization of an autoregressive moving average (ARMA) model. Both of these models are fitted to time series data either to better understand the data or to predict future points in the series (forecasting). "
   ]
  },
  {
   "cell_type": "code",
   "execution_count": null,
   "metadata": {
    "collapsed": true
   },
   "outputs": [],
   "source": []
  }
 ],
 "metadata": {
  "celltoolbar": "Raw Cell Format",
  "kernelspec": {
   "display_name": "Python 2",
   "language": "python",
   "name": "python2"
  },
  "language_info": {
   "codemirror_mode": {
    "name": "ipython",
    "version": 2
   },
   "file_extension": ".py",
   "mimetype": "text/x-python",
   "name": "python",
   "nbconvert_exporter": "python",
   "pygments_lexer": "ipython2",
   "version": "2.7.11"
  }
 },
 "nbformat": 4,
 "nbformat_minor": 1
}
