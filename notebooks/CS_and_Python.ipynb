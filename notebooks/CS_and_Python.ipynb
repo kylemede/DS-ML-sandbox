{
 "cells": [
  {
   "cell_type": "markdown",
   "metadata": {},
   "source": [
    "# Random notes while re-studying CS and DS while job hunting.  \n"
   ]
  },
  {
   "cell_type": "markdown",
   "metadata": {},
   "source": [
    "# xrange vs range looping\n",
    "\n",
    "For long for loops with no need to track iteration use:"
   ]
  },
  {
   "cell_type": "code",
   "execution_count": 1,
   "metadata": {
    "collapsed": false
   },
   "outputs": [
    {
     "name": "stdout",
     "output_type": "stream",
     "text": [
      "Do something\n",
      "Do something\n",
      "Do something\n",
      "Do something\n",
      "Do something\n",
      "Do something\n",
      "Do something\n",
      "Do something\n",
      "Do something\n",
      "Do something\n"
     ]
    }
   ],
   "source": [
    "for _ in xrange(10):\n",
    "    print \"Do something\""
   ]
  },
  {
   "cell_type": "markdown",
   "metadata": {},
   "source": [
    "This will loop through 10 times, but the iteration variable won't be unused as it was never assigned.  Also, xrange returns a type of iterator, whereas range returns a full list that can take a lot of memory for large loops."
   ]
  },
  {
   "cell_type": "markdown",
   "metadata": {},
   "source": [
    "# Automating variable names\n",
    "To assign a variable name and value in a loop fasion, use vars()[variable name as a string] = variable value.  Such as:"
   ]
  },
  {
   "cell_type": "code",
   "execution_count": 5,
   "metadata": {
    "collapsed": true
   },
   "outputs": [],
   "source": [
    "for i in range(1,10):\n",
    "    vars()['x'+str(i)] = i"
   ]
  },
  {
   "cell_type": "markdown",
   "metadata": {},
   "source": [
    "You can see the variables in memory with:"
   ]
  },
  {
   "cell_type": "code",
   "execution_count": 6,
   "metadata": {
    "collapsed": false
   },
   "outputs": [
    {
     "name": "stdout",
     "output_type": "stream",
     "text": [
      "['In', 'Out', '_', '__', '___', '__builtin__', '__builtins__', '__doc__', '__name__', '_dh', '_i', '_i1', '_i2', '_i3', '_i4', '_i5', '_i6', '_ih', '_ii', '_iii', '_oh', '_sh', 'exit', 'get_ipython', 'i', 'quit', 'x1', 'x2', 'x3', 'x4', 'x5', 'x6', 'x7', 'x8', 'x9']\n"
     ]
    }
   ],
   "source": [
    "print repr(dir())"
   ]
  },
  {
   "cell_type": "code",
   "execution_count": 7,
   "metadata": {
    "collapsed": false
   },
   "outputs": [
    {
     "name": "stdout",
     "output_type": "stream",
     "text": [
      "1\n",
      "5\n"
     ]
    }
   ],
   "source": [
    "print repr(x1)\n",
    "print repr(x5)"
   ]
  },
  {
   "cell_type": "markdown",
   "metadata": {},
   "source": [
    "# Binary numbers and Python operators \n",
    "\n",
    "A good review of Python operators can be found [here](http://www.programiz.com/python-programming/operators)\n",
    "\n",
    "The wiki reviewing bitwise operations [here](https://en.wikipedia.org/wiki/Bitwise_operation)  OR [here](http://www.math.grin.edu/~rebelsky/Courses/152/97F/Readings/student-binary)\n",
    "\n",
    "Note that binary numbers follow:\n",
    "\n",
    "2^4| 2^3| 2^2| 2^1| 2^0\n",
    "\n",
    "1   0    -> 2+0 =  2\n",
    "   \n",
    "1    1   1    -> 4+2+1 = 7\n",
    "   \n",
    "1   0   1    0   1 ->  16+0+4+0+1 = 21\n",
    "\n",
    "1   1   1    1   0 ->     16+8+4+2+0 = 30"
   ]
  },
  {
   "cell_type": "markdown",
   "metadata": {},
   "source": [
    "Convert numbers from base 10 to binary with bin()"
   ]
  },
  {
   "cell_type": "code",
   "execution_count": 8,
   "metadata": {
    "collapsed": false
   },
   "outputs": [
    {
     "data": {
      "text/plain": [
       "'10101'"
      ]
     },
     "execution_count": 8,
     "metadata": {},
     "output_type": "execute_result"
    }
   ],
   "source": [
    "bin(21)[2:]"
   ]
  },
  {
   "cell_type": "markdown",
   "metadata": {},
   "source": [
    "Ensuring two binary numbers are the same length"
   ]
  },
  {
   "cell_type": "code",
   "execution_count": 10,
   "metadata": {
    "collapsed": false
   },
   "outputs": [
    {
     "name": "stdout",
     "output_type": "stream",
     "text": [
      "Before evening their lengths:\n",
      "1111011\n",
      "11101010\n",
      "After evening their lengths:\n",
      "01111011\n",
      "11101010\n"
     ]
    }
   ],
   "source": [
    "a = 123\n",
    "b = 234\n",
    "a, b = bin(a)[2:], bin(b)[2:]\n",
    "print \"Before evening their lengths:\\n{}\\n{}\".format(a,b)\n",
    "diff = len(a)-len(b)\n",
    "if diff > 0:\n",
    "    b = '0' * diff + b\n",
    "elif diff < 0:\n",
    "    a = '0' * abs(diff) + a\n",
    "print \"After evening their lengths:\\n{}\\n{}\".format(a,b)"
   ]
  },
  {
   "cell_type": "markdown",
   "metadata": {},
   "source": [
    "For bitwise or:"
   ]
  },
  {
   "cell_type": "code",
   "execution_count": 12,
   "metadata": {
    "collapsed": false
   },
   "outputs": [
    {
     "name": "stdout",
     "output_type": "stream",
     "text": [
      "01111011\n",
      "11101010\n",
      "--------\n",
      "11111011\n"
     ]
    }
   ],
   "source": [
    "s = ''\n",
    "for i in range(len(a)):\n",
    "    s += str(int(a[i]) | int(b[i]))\n",
    "print \"{}\\n{}\\n{}\\n{}\".format(a, b, '-'*len(a), s)"
   ]
  },
  {
   "cell_type": "markdown",
   "metadata": {},
   "source": [
    "bitwise or is |, xor is ^, and is &, complement (switch 0's to 1's, and 1's to 0's) is ~, binary shift left (move binary number two digits to left by adding zeros to its right) is <<, right >>"
   ]
  },
  {
   "cell_type": "markdown",
   "metadata": {},
   "source": [
    "Convert the resulting binary number to base 10:"
   ]
  },
  {
   "cell_type": "code",
   "execution_count": 13,
   "metadata": {
    "collapsed": false
   },
   "outputs": [
    {
     "data": {
      "text/plain": [
       "251"
      ]
     },
     "execution_count": 13,
     "metadata": {},
     "output_type": "execute_result"
    }
   ],
   "source": [
    "sum(map(lambda x: 2**x[0] if int(x[1]) else 0, enumerate(reversed(s))))"
   ]
  },
  {
   "cell_type": "markdown",
   "metadata": {},
   "source": [
    "# Building a 'stack' in Python"
   ]
  },
  {
   "cell_type": "code",
   "execution_count": 14,
   "metadata": {
    "collapsed": true
   },
   "outputs": [],
   "source": [
    "class Stack:\n",
    "     def __init__(self):\n",
    "         self.items = []\n",
    "\n",
    "     def isEmpty(self):\n",
    "         return self.items == []\n",
    "\n",
    "     def push(self, item):\n",
    "         self.items.append(item)\n",
    "\n",
    "     def pop(self):\n",
    "         return self.items.pop()\n",
    "\n",
    "     def peek(self):\n",
    "         return self.items[len(self.items)-1]\n",
    "\n",
    "     def size(self):\n",
    "         return len(self.items)"
   ]
  },
  {
   "cell_type": "code",
   "execution_count": 20,
   "metadata": {
    "collapsed": false
   },
   "outputs": [
    {
     "name": "stdout",
     "output_type": "stream",
     "text": [
      "True\n",
      "\n",
      "'dog'\n",
      "\n",
      "3\n",
      "\n",
      "False\n",
      "\n",
      "8.4\n",
      "\n",
      "True\n",
      "\n",
      "2\n",
      "\n"
     ]
    }
   ],
   "source": [
    "s=Stack()\n",
    "\n",
    "print repr(s.isEmpty())+'\\n'\n",
    "s.push(4)\n",
    "s.push('dog')\n",
    "print repr(s.peek())+'\\n'\n",
    "s.push(True)\n",
    "print repr(s.size())+'\\n'\n",
    "print repr(s.isEmpty())+'\\n'\n",
    "s.push(8.4)\n",
    "print repr(s.pop())+'\\n'\n",
    "print repr(s.pop())+'\\n'\n",
    "print repr(s.size())+'\\n'"
   ]
  },
  {
   "cell_type": "code",
   "execution_count": null,
   "metadata": {
    "collapsed": true
   },
   "outputs": [],
   "source": []
  },
  {
   "cell_type": "code",
   "execution_count": null,
   "metadata": {
    "collapsed": true
   },
   "outputs": [],
   "source": []
  }
 ],
 "metadata": {
  "kernelspec": {
   "display_name": "Python 2",
   "language": "python",
   "name": "python2"
  },
  "language_info": {
   "codemirror_mode": {
    "name": "ipython",
    "version": 2
   },
   "file_extension": ".py",
   "mimetype": "text/x-python",
   "name": "python",
   "nbconvert_exporter": "python",
   "pygments_lexer": "ipython2",
   "version": "2.7.11"
  }
 },
 "nbformat": 4,
 "nbformat_minor": 1
}
