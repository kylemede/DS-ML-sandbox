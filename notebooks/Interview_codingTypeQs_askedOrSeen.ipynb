{
 "cells": [
  {
   "cell_type": "markdown",
   "metadata": {},
   "source": [
    "# Intro/purpose\n",
    "___\n",
    "\n",
    "Here I will put questions I have been asked in real interviews, or through at home coding tests.  Some are from interviews or test that friends/colleagues have seen and I am doing for extra practice.\n",
    "___\n",
    "___\n",
    "___"
   ]
  },
  {
   "cell_type": "markdown",
   "metadata": {},
   "source": [
    "# Q:\n",
    "\n",
    "When $n$ is a positive integer, the function $f(n)$ satisfies the following:\n",
    "\n",
    "$$ f(0) = 0$$\n",
    "\n",
    "$$ f(1) = 1$$\n",
    "\n",
    "$$ f(n) = f(n-1) + f(n-2)$$\n",
    "\n",
    "#### 1) \n",
    "\n",
    "Create a program to find $f(n)$.\n",
    "\n",
    "#### 2)\n",
    "\n",
    "Use the program to find $f(8181)$."
   ]
  },
  {
   "cell_type": "code",
   "execution_count": null,
   "metadata": {
    "collapsed": true
   },
   "outputs": [],
   "source": []
  },
  {
   "cell_type": "markdown",
   "metadata": {},
   "source": [
    "___\n",
    "___\n",
    "# Q:\n",
    "\n",
    "Implement a program that lists the nodes of a random binary tree by nodes at the same depth.\n"
   ]
  },
  {
   "cell_type": "code",
   "execution_count": 1,
   "metadata": {
    "collapsed": true
   },
   "outputs": [],
   "source": [
    "# This requires a Breadth First Search algorith, \n",
    "# while tracking the nodes at each level.\n",
    "def nodes_per_level(head):\n",
    "    \"\"\"\n",
    "    head: The root node of a Binary Tree class to be searched.\n",
    "    \"\"\""
   ]
  },
  {
   "cell_type": "markdown",
   "metadata": {},
   "source": [
    "___\n",
    "___\n",
    "# Q:\n",
    "\n",
    "### 1)\n",
    "\n",
    " Imagine you are playing a board game. You roll a 6-faced dice and move forward the same number of spaces that you rolled. If the finishing point is “n” spaces away from the starting point, please implement a program that calculates how many possible ways are there to arrive exactly at the finishing point.\n",
    " \n",
    " #### 2)\n",
    " \n",
    " If n=610, how many possible ways are there to arrive exactly at the finishing point?\n",
    " \n"
   ]
  },
  {
   "cell_type": "code",
   "execution_count": null,
   "metadata": {
    "collapsed": true
   },
   "outputs": [],
   "source": []
  }
 ],
 "metadata": {
  "kernelspec": {
   "display_name": "Python 2",
   "language": "python",
   "name": "python2"
  },
  "language_info": {
   "codemirror_mode": {
    "name": "ipython",
    "version": 2
   },
   "file_extension": ".py",
   "mimetype": "text/x-python",
   "name": "python",
   "nbconvert_exporter": "python",
   "pygments_lexer": "ipython2",
   "version": "2.7.11"
  }
 },
 "nbformat": 4,
 "nbformat_minor": 1
}
