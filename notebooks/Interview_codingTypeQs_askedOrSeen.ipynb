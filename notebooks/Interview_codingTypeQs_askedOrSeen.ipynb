{
 "cells": [
  {
   "cell_type": "markdown",
   "metadata": {},
   "source": [
    "# Intro/purpose\n",
    "___\n",
    "\n",
    "Here I will put questions I have been asked in real interviews, or through at home coding tests.  Some are from interviews or test that friends/colleagues have seen and I am doing for extra practice.\n",
    "___\n",
    "___\n",
    "___"
   ]
  },
  {
   "cell_type": "markdown",
   "metadata": {},
   "source": [
    "# Q:\n",
    "\n",
    "When $n$ is a positive integer, the function $f(n)$ satisfies the following:\n",
    "\n",
    "$$ f(0) = 0$$\n",
    "\n",
    "$$ f(1) = 1$$\n",
    "\n",
    "$$ f(n) = f(n-1) + f(n-2)$$\n",
    "\n",
    "#### 1) \n",
    "\n",
    "Create a program to find $f(n)$.\n",
    "\n",
    "#### 2)\n",
    "\n",
    "Use the program to find $f(8181)$."
   ]
  },
  {
   "cell_type": "code",
   "execution_count": null,
   "metadata": {
    "collapsed": true
   },
   "outputs": [],
   "source": []
  },
  {
   "cell_type": "markdown",
   "metadata": {},
   "source": [
    "___\n",
    "___\n",
    "# Q:\n",
    "\n",
    "Implement a program that lists the nodes of a random binary tree by nodes at the same depth.\n",
    "\n",
    "# A:\n",
    "\n",
    "This problem is commonly termed 'Level order traversal of a binary tree'.\n",
    "\n",
    "One common approach uses a Breadth First Search algorith, while tracking the nodes at each level.\n",
    "\n",
    "## FIRST:\n",
    "Here is a TreeNode class to use.  Not part of the question, \n",
    "but useful for implmentation and later testing."
   ]
  },
  {
   "cell_type": "code",
   "execution_count": 8,
   "metadata": {
    "collapsed": true
   },
   "outputs": [],
   "source": [
    "class BinaryTree(object):\n",
    "    def __init__(self,rootObj):\n",
    "        self.key = rootObj\n",
    "        self.leftChild = None\n",
    "        self.rightChild = None\n",
    "\n",
    "    def insertLeft(self,newNode):\n",
    "        if self.leftChild == None:\n",
    "            self.leftChild = BinaryTree(newNode)\n",
    "        else:\n",
    "            t = BinaryTree(newNode)\n",
    "            t.leftChild = self.leftChild\n",
    "            self.leftChild = t\n",
    "\n",
    "    def insertRight(self,newNode):\n",
    "        if self.rightChild == None:\n",
    "            self.rightChild = BinaryTree(newNode)\n",
    "        else:\n",
    "            t = BinaryTree(newNode)\n",
    "            t.rightChild = self.rightChild\n",
    "            self.rightChild = t\n",
    "\n",
    "\n",
    "    def getRightChild(self):\n",
    "        return self.rightChild\n",
    "\n",
    "    def getLeftChild(self):\n",
    "        return self.leftChild\n",
    "\n",
    "    def setRootVal(self,obj):\n",
    "        self.key = obj\n",
    "\n",
    "    def getRootVal(self):\n",
    "        return self.key"
   ]
  },
  {
   "cell_type": "markdown",
   "metadata": {},
   "source": [
    "## Now, we can implement a level order traversal function.\n",
    "\n",
    "#### Method 1: Using 2 queues.\n",
    "[From here](http://articles.leetcode.com/printing-binary-tree-in-level-order/)\n",
    "\n",
    "In order to print the binary tree in level order with newline in the end of each level, we can utilize two queues. The first queue stores the current level’s nodes, while the second queue stores the next level’s nodes (the current level nodes’ children).\n",
    "\n",
    "When the first queue is emptied, we know that it must have reached the end of the current level, therefore we print a newline. Then, we switch the emptied first queue with the second queue (which is populated with the next level’s nodes). Then we repeat the process over again."
   ]
  },
  {
   "cell_type": "code",
   "execution_count": 28,
   "metadata": {
    "collapsed": true
   },
   "outputs": [],
   "source": [
    "def level_order_traversal(node):\n",
    "    \"\"\"\n",
    "    head: The root node of a TreeNode class to be searched.\n",
    "    \"\"\"\n",
    "    # Edge case: Check if initial node is a root.\n",
    "    if (node.leftChild==node.rightChild==None):\n",
    "        print \"node passed in has no children!\"\n",
    "        return repr(node.key)\n",
    "    \n",
    "    # Use 2 lists as the current and next level queues\n",
    "    currLvl = []\n",
    "    nextLvl = []\n",
    "    outstr = ''\n",
    "    \n",
    "    # Load up current level queue with head/root node passed in\n",
    "    currLvl.append(node)\n",
    "    \n",
    "    # Iterate through until the current level is empty\n",
    "    while len(currLvl)>0:\n",
    "        # pop off front of the queue\n",
    "        currNode = currLvl.pop(0)\n",
    "        if currNode != None:\n",
    "            # current node exists, so add its value to the str\n",
    "            # and add its children to next level\n",
    "            outstr += str(currNode.key)+\"  \"\n",
    "            nextLvl.append(currNode.leftChild)\n",
    "            nextLvl.append(currNode.rightChild)\n",
    "        if len(currLvl)==0:\n",
    "            # current level queue is empty\n",
    "            # So, add end of line to str, and swap next for current queue\n",
    "            outstr += \"\\n\"\n",
    "            currLvl = nextLvl\n",
    "            nextLvl = []\n",
    "    return outstr"
   ]
  },
  {
   "cell_type": "markdown",
   "metadata": {},
   "source": [
    "### Here is a 'book' as a binary tree to use for testing"
   ]
  },
  {
   "cell_type": "code",
   "execution_count": 29,
   "metadata": {
    "collapsed": false
   },
   "outputs": [],
   "source": [
    "book = BinaryTree('book')\n",
    "# load up chapter 1 on left\n",
    "book.insertLeft('Chapter 1')\n",
    "book.getLeftChild().insertLeft(\"Section 1.1\")\n",
    "s12 = BinaryTree('Section 1.2')\n",
    "s12.insertLeft(\"Section 1.2.1\")\n",
    "s12.insertRight(\"Section 1.2.2\")\n",
    "book.getLeftChild().rightChild = s12\n",
    "# load up chapter 2 on right\n",
    "book.insertRight(\"Chapter 2\")\n",
    "book.getRightChild().insertLeft(\"Section 2.1\")\n",
    "s22 = BinaryTree('Section 2.2')\n",
    "s22.insertLeft(\"Section 2.2.1\")\n",
    "s22.insertRight(\"Section 2.2.2\")\n",
    "book.getRightChild().rightChild = s22"
   ]
  },
  {
   "cell_type": "markdown",
   "metadata": {},
   "source": [
    "### Lets test method 1"
   ]
  },
  {
   "cell_type": "code",
   "execution_count": 31,
   "metadata": {
    "collapsed": false
   },
   "outputs": [
    {
     "name": "stdout",
     "output_type": "stream",
     "text": [
      "book  \n",
      "Chapter 1  Chapter 2  \n",
      "Section 1.1  Section 1.2  Section 2.1  Section 2.2  \n",
      "Section 1.2.1  Section 1.2.2  Section 2.2.1  Section 2.2.2  \n",
      "\n",
      "\n"
     ]
    }
   ],
   "source": [
    "a = level_order_traversal(book)\n",
    "print a"
   ]
  },
  {
   "cell_type": "markdown",
   "metadata": {},
   "source": [
    "## It worked!  \n",
    "\n",
    "## Method 2: using recursion\n",
    "\n",
    "['method 1' from here](http://www.geeksforgeeks.org/level-order-tree-traversal/)\n",
    "Uses a helper function that is recursive.\n",
    "\n",
    "# Below is broken... it works printing when it sees the nodes, but not when tracking the 'outstr' variable... Giving up for now."
   ]
  },
  {
   "cell_type": "code",
   "execution_count": 169,
   "metadata": {
    "collapsed": false
   },
   "outputs": [],
   "source": [
    "def level_order_traversal2(node):\n",
    "    # perform edge case checks (Skipped for now)\n",
    "    \n",
    "    outstr = \"\"\n",
    "    h = height(node)\n",
    "    #print h\n",
    "    for i in range(1,h+1):\n",
    "        print 'level ',i\n",
    "        #print outstr\n",
    "        outstr = print_given_level(node,i,outstr)\n",
    "        #print\n",
    "        print outstr\n",
    "        #outstr += \"\\n\"\n",
    "    return outstr\n",
    "    \n",
    "\n",
    "# Make the helper function\n",
    "def print_given_level(node,level,outstr):\n",
    "    #print repr(node.key)\n",
    "    #print repr(outstr)\n",
    "    if (node is None) or (node.key is None):\n",
    "        # this is pointing past/from a leaf, nothing to do\n",
    "        #if outstr is None:\n",
    "        #    outstr = ''\n",
    "        return outstr\n",
    "    if level == 1:\n",
    "        # at a leaf, add node value to string\n",
    "        #print repr(outstr)\n",
    "     \n",
    "        #if outstr is None:\n",
    "        #    outstr = ''\n",
    "        outstr += repr(node.key)\n",
    "        #return outstr\n",
    "        #outstr += repr(node.key)\n",
    "        #return outstr\n",
    "    elif level > 1:\n",
    "        # above a leaf, recurse down one more level\n",
    "        outstr = print_given_level(node.leftChild,level-1,outstr)\n",
    "        outstr = print_given_level(node.rightChild,level-1,outstr)\n",
    "\n",
    "# helper function 2, find the height of the tree\n",
    "def height(node):\n",
    "    if node is None:\n",
    "        return 0\n",
    "    else:\n",
    "        lheight = height(node.leftChild)\n",
    "        rheight = height(node.rightChild)\n",
    "    return max(lheight,rheight)+1\n",
    "    "
   ]
  },
  {
   "cell_type": "code",
   "execution_count": 170,
   "metadata": {
    "collapsed": false
   },
   "outputs": [
    {
     "name": "stdout",
     "output_type": "stream",
     "text": [
      "level  1\n",
      "None\n",
      "level  2\n"
     ]
    },
    {
     "ename": "TypeError",
     "evalue": "unsupported operand type(s) for +=: 'NoneType' and 'str'",
     "output_type": "error",
     "traceback": [
      "\u001b[1;31m---------------------------------------------------------------------------\u001b[0m",
      "\u001b[1;31mTypeError\u001b[0m                                 Traceback (most recent call last)",
      "\u001b[1;32m<ipython-input-170-cce056b8e925>\u001b[0m in \u001b[0;36m<module>\u001b[1;34m()\u001b[0m\n\u001b[1;32m----> 1\u001b[1;33m \u001b[0ma\u001b[0m \u001b[1;33m=\u001b[0m \u001b[0mlevel_order_traversal2\u001b[0m\u001b[1;33m(\u001b[0m\u001b[0mbook\u001b[0m\u001b[1;33m)\u001b[0m\u001b[1;33m\u001b[0m\u001b[0m\n\u001b[0m\u001b[0;32m      2\u001b[0m \u001b[1;32mprint\u001b[0m \u001b[0ma\u001b[0m\u001b[1;33m\u001b[0m\u001b[0m\n",
      "\u001b[1;32m<ipython-input-169-b11882fb053b>\u001b[0m in \u001b[0;36mlevel_order_traversal2\u001b[1;34m(node)\u001b[0m\n\u001b[0;32m      8\u001b[0m         \u001b[1;32mprint\u001b[0m \u001b[1;34m'level '\u001b[0m\u001b[1;33m,\u001b[0m\u001b[0mi\u001b[0m\u001b[1;33m\u001b[0m\u001b[0m\n\u001b[0;32m      9\u001b[0m         \u001b[1;31m#print outstr\u001b[0m\u001b[1;33m\u001b[0m\u001b[1;33m\u001b[0m\u001b[0m\n\u001b[1;32m---> 10\u001b[1;33m         \u001b[0moutstr\u001b[0m \u001b[1;33m=\u001b[0m \u001b[0mprint_given_level\u001b[0m\u001b[1;33m(\u001b[0m\u001b[0mnode\u001b[0m\u001b[1;33m,\u001b[0m\u001b[0mi\u001b[0m\u001b[1;33m,\u001b[0m\u001b[0moutstr\u001b[0m\u001b[1;33m)\u001b[0m\u001b[1;33m\u001b[0m\u001b[0m\n\u001b[0m\u001b[0;32m     11\u001b[0m         \u001b[1;31m#print\u001b[0m\u001b[1;33m\u001b[0m\u001b[1;33m\u001b[0m\u001b[0m\n\u001b[0;32m     12\u001b[0m         \u001b[1;32mprint\u001b[0m \u001b[0moutstr\u001b[0m\u001b[1;33m\u001b[0m\u001b[0m\n",
      "\u001b[1;32m<ipython-input-169-b11882fb053b>\u001b[0m in \u001b[0;36mprint_given_level\u001b[1;34m(node, level, outstr)\u001b[0m\n\u001b[0;32m     36\u001b[0m     \u001b[1;32melif\u001b[0m \u001b[0mlevel\u001b[0m \u001b[1;33m>\u001b[0m \u001b[1;36m1\u001b[0m\u001b[1;33m:\u001b[0m\u001b[1;33m\u001b[0m\u001b[0m\n\u001b[0;32m     37\u001b[0m         \u001b[1;31m# above a leaf, recurse down one more level\u001b[0m\u001b[1;33m\u001b[0m\u001b[1;33m\u001b[0m\u001b[0m\n\u001b[1;32m---> 38\u001b[1;33m         \u001b[0moutstr\u001b[0m \u001b[1;33m=\u001b[0m \u001b[0mprint_given_level\u001b[0m\u001b[1;33m(\u001b[0m\u001b[0mnode\u001b[0m\u001b[1;33m.\u001b[0m\u001b[0mleftChild\u001b[0m\u001b[1;33m,\u001b[0m\u001b[0mlevel\u001b[0m\u001b[1;33m-\u001b[0m\u001b[1;36m1\u001b[0m\u001b[1;33m,\u001b[0m\u001b[0moutstr\u001b[0m\u001b[1;33m)\u001b[0m\u001b[1;33m\u001b[0m\u001b[0m\n\u001b[0m\u001b[0;32m     39\u001b[0m         \u001b[0moutstr\u001b[0m \u001b[1;33m=\u001b[0m \u001b[0mprint_given_level\u001b[0m\u001b[1;33m(\u001b[0m\u001b[0mnode\u001b[0m\u001b[1;33m.\u001b[0m\u001b[0mrightChild\u001b[0m\u001b[1;33m,\u001b[0m\u001b[0mlevel\u001b[0m\u001b[1;33m-\u001b[0m\u001b[1;36m1\u001b[0m\u001b[1;33m,\u001b[0m\u001b[0moutstr\u001b[0m\u001b[1;33m)\u001b[0m\u001b[1;33m\u001b[0m\u001b[0m\n\u001b[0;32m     40\u001b[0m \u001b[1;33m\u001b[0m\u001b[0m\n",
      "\u001b[1;32m<ipython-input-169-b11882fb053b>\u001b[0m in \u001b[0;36mprint_given_level\u001b[1;34m(node, level, outstr)\u001b[0m\n\u001b[0;32m     30\u001b[0m         \u001b[1;31m#if outstr is None:\u001b[0m\u001b[1;33m\u001b[0m\u001b[1;33m\u001b[0m\u001b[0m\n\u001b[0;32m     31\u001b[0m         \u001b[1;31m#    outstr = ''\u001b[0m\u001b[1;33m\u001b[0m\u001b[1;33m\u001b[0m\u001b[0m\n\u001b[1;32m---> 32\u001b[1;33m         \u001b[0moutstr\u001b[0m \u001b[1;33m+=\u001b[0m \u001b[0mrepr\u001b[0m\u001b[1;33m(\u001b[0m\u001b[0mnode\u001b[0m\u001b[1;33m.\u001b[0m\u001b[0mkey\u001b[0m\u001b[1;33m)\u001b[0m\u001b[1;33m\u001b[0m\u001b[0m\n\u001b[0m\u001b[0;32m     33\u001b[0m         \u001b[1;31m#return outstr\u001b[0m\u001b[1;33m\u001b[0m\u001b[1;33m\u001b[0m\u001b[0m\n\u001b[0;32m     34\u001b[0m         \u001b[1;31m#outstr += repr(node.key)\u001b[0m\u001b[1;33m\u001b[0m\u001b[1;33m\u001b[0m\u001b[0m\n",
      "\u001b[1;31mTypeError\u001b[0m: unsupported operand type(s) for +=: 'NoneType' and 'str'"
     ]
    }
   ],
   "source": [
    "a = level_order_traversal2(book)\n",
    "print a"
   ]
  },
  {
   "cell_type": "markdown",
   "metadata": {},
   "source": [
    "___\n",
    "___\n",
    "# Q:\n",
    "\n",
    "### 1)\n",
    "\n",
    " Imagine you are playing a board game. You roll a 6-faced dice and move forward the same number of spaces that you rolled. If the finishing point is “n” spaces away from the starting point, please implement a program that calculates how many possible ways are there to arrive exactly at the finishing point.\n",
    " \n",
    " #### 2)\n",
    " \n",
    " If n=610, how many possible ways are there to arrive exactly at the finishing point?\n",
    " \n"
   ]
  },
  {
   "cell_type": "code",
   "execution_count": null,
   "metadata": {
    "collapsed": true
   },
   "outputs": [],
   "source": []
  },
  {
   "cell_type": "markdown",
   "metadata": {},
   "source": [
    "___\n",
    "___\n",
    "___\n"
   ]
  },
  {
   "cell_type": "code",
   "execution_count": null,
   "metadata": {
    "collapsed": true
   },
   "outputs": [],
   "source": []
  }
 ],
 "metadata": {
  "kernelspec": {
   "display_name": "Python 2",
   "language": "python",
   "name": "python2"
  },
  "language_info": {
   "codemirror_mode": {
    "name": "ipython",
    "version": 2
   },
   "file_extension": ".py",
   "mimetype": "text/x-python",
   "name": "python",
   "nbconvert_exporter": "python",
   "pygments_lexer": "ipython2",
   "version": "2.7.11"
  }
 },
 "nbformat": 4,
 "nbformat_minor": 1
}
